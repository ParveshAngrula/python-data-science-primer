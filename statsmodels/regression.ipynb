{
 "cells": [
  {
   "cell_type": "code",
   "execution_count": 2,
   "metadata": {
    "collapsed": false
   },
   "outputs": [],
   "source": [
    "%matplotlib inline"
   ]
  },
  {
   "cell_type": "code",
   "execution_count": 4,
   "metadata": {
    "collapsed": false
   },
   "outputs": [],
   "source": [
    "# Import the statsmodels formula api for doing OLS regression\n",
    "import statsmodels.formula.api as smf\n",
    "\n",
    "# Import a helper function for plotting regression results\n",
    "from statsmodels.graphics.api import abline_plot\n",
    "\n",
    "import matplotlib.pyplot as plt\n",
    "import numpy as np\n",
    "plt.style.use('fivethirtyeight')\n",
    "\n",
    "np.random.seed(0)"
   ]
  },
  {
   "cell_type": "markdown",
   "metadata": {},
   "source": [
    "# Regression\n",
    "\n",
    "Statsmodels has an API for doing regression with R-like formulas.\n",
    "\n",
    "First, let's create some data to work with.  We'll create a simple linearly related dataset with a little bit of noise."
   ]
  },
  {
   "cell_type": "code",
   "execution_count": 7,
   "metadata": {
    "collapsed": false
   },
   "outputs": [
    {
     "data": {
      "text/plain": [
       "<matplotlib.collections.PathCollection at 0x1cf828e3e48>"
      ]
     },
     "execution_count": 7,
     "metadata": {},
     "output_type": "execute_result"
    },
    {
     "data": {
      "image/png": "[encoded data removed]",
      "text/plain": [
       "<matplotlib.figure.Figure at 0x1cf8284ddd8>"
      ]
     },
     "metadata": {},
     "output_type": "display_data"
    }
   ],
   "source": [
    "# The size of our dataset\n",
    "size = 50\n",
    "\n",
    "# x = [0,1..8,9]\n",
    "x = np.arange(size)\n",
    "\n",
    "# Generate noise\n",
    "noise = np.random.randn(size)\n",
    "\n",
    "# Make y = x + noise\n",
    "y = x + noise\n",
    "\n",
    "# Plot it and see what it looks like:\n",
    "figure, ax = plt.subplots(figsize=(10,10))\n",
    "ax.scatter(x, y)"
   ]
  },
  {
   "cell_type": "markdown",
   "metadata": {},
   "source": [
    "Now to run OLS regression, we first create a dictionary to store x and y:"
   ]
  },
  {
   "cell_type": "code",
   "execution_count": 8,
   "metadata": {
    "collapsed": true
   },
   "outputs": [],
   "source": [
    "d = {'x': x, 'y': y}"
   ]
  },
  {
   "cell_type": "markdown",
   "metadata": {},
   "source": [
    "Then use `smf.ols` with the formula `y ~ x`.  This means regress `y` against `x`. After than, print a summary of the results."
   ]
  },
  {
   "cell_type": "code",
   "execution_count": 9,
   "metadata": {
    "collapsed": false
   },
   "outputs": [
    {
     "name": "stdout",
     "output_type": "stream",
     "text": [
      "                            OLS Regression Results                            \n",
      "==============================================================================\n",
      "Dep. Variable:                      y   R-squared:                       0.995\n",
      "Model:                            OLS   Adj. R-squared:                  0.995\n",
      "Method:                 Least Squares   F-statistic:                     9717.\n",
      "Date:                Wed, 18 May 2016   Prob (F-statistic):           4.55e-57\n",
      "Time:                        14:08:37   Log-Likelihood:                -70.781\n",
      "No. Observations:                  50   AIC:                             145.6\n",
      "Df Residuals:                      48   BIC:                             149.4\n",
      "Df Model:                           1                                         \n",
      "Covariance Type:            nonrobust                                         \n",
      "==============================================================================\n",
      "                 coef    std err          t      P>|t|      [95.0% Conf. Int.]\n",
      "------------------------------------------------------------------------------\n",
      "Intercept      0.3689      0.283      1.301      0.199        -0.201     0.939\n",
      "x              0.9827      0.010     98.575      0.000         0.963     1.003\n",
      "==============================================================================\n",
      "Omnibus:                        0.770   Durbin-Watson:                   2.063\n",
      "Prob(Omnibus):                  0.680   Jarque-Bera (JB):                0.292\n",
      "Skew:                          -0.163   Prob(JB):                        0.864\n",
      "Kurtosis:                       3.183   Cond. No.                         56.1\n",
      "==============================================================================\n",
      "\n",
      "Warnings:\n",
      "[1] Standard Errors assume that the covariance matrix of the errors is correctly specified.\n"
     ]
    }
   ],
   "source": [
    "# Run regression.  Note the call to `fit()` after the call to `ols`.\n",
    "mod = smf.ols(formula='y ~ x', data = d).fit()\n",
    "\n",
    "# Print the regression results\n",
    "print(mod.summary())"
   ]
  },
  {
   "cell_type": "markdown",
   "metadata": {},
   "source": [
    "There's a lot going on here.  The key pieces are the [R-squared](https://en.wikipedia.org/wiki/Coefficient_of_determination) and the list of variables including the computed coefficient, and the 95% [confidence interval](https://en.wikipedia.org/wiki/Confidence_interval).  Remember, the true value for our x coefficient is 1, so we came pretty close.\n",
    "\n",
    "We can visualize the line by accessing `mod.params` and plugging those numbers into the equation for a line:"
   ]
  },
  {
   "cell_type": "code",
   "execution_count": 1,
   "metadata": {
    "collapsed": false
   },
   "outputs": [
    {
     "ename": "NameError",
     "evalue": "name 'plt' is not defined",
     "output_type": "error",
     "traceback": [
      "\u001b[1;31m---------------------------------------------------------------------------\u001b[0m",
      "\u001b[1;31mNameError\u001b[0m                                 Traceback (most recent call last)",
      "\u001b[1;32m<ipython-input-1-d810380c4b4a>\u001b[0m in \u001b[0;36m<module>\u001b[1;34m()\u001b[0m\n\u001b[1;32m----> 1\u001b[1;33m \u001b[0mfigure\u001b[0m\u001b[1;33m,\u001b[0m \u001b[0max\u001b[0m \u001b[1;33m=\u001b[0m \u001b[0mplt\u001b[0m\u001b[1;33m.\u001b[0m\u001b[0msubplots\u001b[0m\u001b[1;33m(\u001b[0m\u001b[0mfigsize\u001b[0m\u001b[1;33m=\u001b[0m\u001b[1;33m(\u001b[0m\u001b[1;36m10\u001b[0m\u001b[1;33m,\u001b[0m\u001b[1;36m10\u001b[0m\u001b[1;33m)\u001b[0m\u001b[1;33m)\u001b[0m\u001b[1;33m\u001b[0m\u001b[0m\n\u001b[0m\u001b[0;32m      2\u001b[0m \u001b[1;33m\u001b[0m\u001b[0m\n\u001b[0;32m      3\u001b[0m \u001b[1;31m# Scatter the actual points\u001b[0m\u001b[1;33m\u001b[0m\u001b[1;33m\u001b[0m\u001b[0m\n\u001b[0;32m      4\u001b[0m \u001b[0max\u001b[0m\u001b[1;33m.\u001b[0m\u001b[0mscatter\u001b[0m\u001b[1;33m(\u001b[0m\u001b[0mx\u001b[0m\u001b[1;33m,\u001b[0m \u001b[0my\u001b[0m\u001b[1;33m)\u001b[0m\u001b[1;33m\u001b[0m\u001b[0m\n\u001b[0;32m      5\u001b[0m \u001b[1;33m\u001b[0m\u001b[0m\n",
      "\u001b[1;31mNameError\u001b[0m: name 'plt' is not defined"
     ]
    }
   ],
   "source": [
    "figure, ax = plt.subplots(figsize=(10,10))\n",
    "\n",
    "# Scatter the actual points\n",
    "ax.scatter(x, y)\n",
    "\n",
    "# The regression line is the intercept (`mod.params[0]`) + the coefficent for x (`mod.params[1]`) times x.\n",
    "r = mod.params[0] + mod.params[1]*x\n",
    "\n",
    "ax.plot(x,r, 'r--')"
   ]
  },
  {
   "cell_type": "markdown",
   "metadata": {},
   "source": [
    "We can have more than one dependent variable.  Additional variables can be included by using `+` in the regression formula."
   ]
  },
  {
   "cell_type": "code",
   "execution_count": 18,
   "metadata": {
    "collapsed": false
   },
   "outputs": [
    {
     "name": "stdout",
     "output_type": "stream",
     "text": [
      "                            OLS Regression Results                            \n",
      "==============================================================================\n",
      "Dep. Variable:                      y   R-squared:                       0.988\n",
      "Model:                            OLS   Adj. R-squared:                  0.987\n",
      "Method:                 Least Squares   F-statistic:                     1214.\n",
      "Date:                Wed, 18 May 2016   Prob (F-statistic):           8.88e-44\n",
      "Time:                        14:25:26   Log-Likelihood:                -26.715\n",
      "No. Observations:                  50   AIC:                             61.43\n",
      "Df Residuals:                      46   BIC:                             69.08\n",
      "Df Model:                           3                                         \n",
      "Covariance Type:            nonrobust                                         \n",
      "==============================================================================\n",
      "                 coef    std err          t      P>|t|      [95.0% Conf. Int.]\n",
      "------------------------------------------------------------------------------\n",
      "Intercept     -0.0581      0.065     -0.901      0.372        -0.188     0.072\n",
      "a              0.9123      0.054     16.874      0.000         0.803     1.021\n",
      "b              1.9876      0.056     35.541      0.000         1.875     2.100\n",
      "c              2.8838      0.068     42.427      0.000         2.747     3.021\n",
      "==============================================================================\n",
      "Omnibus:                        0.971   Durbin-Watson:                   1.891\n",
      "Prob(Omnibus):                  0.615   Jarque-Bera (JB):                0.840\n",
      "Skew:                          -0.307   Prob(JB):                        0.657\n",
      "Kurtosis:                       2.842   Cond. No.                         1.51\n",
      "==============================================================================\n",
      "\n",
      "Warnings:\n",
      "[1] Standard Errors assume that the covariance matrix of the errors is correctly specified.\n"
     ]
    }
   ],
   "source": [
    "# Create 3 random variables: a, b and c\n",
    "a = np.random.randn(size)\n",
    "b = np.random.randn(size)\n",
    "c = np.random.randn(size)\n",
    "\n",
    "# Make y = a + 2b + 3c + noise\n",
    "y = a + 2*b + 3*c + np.random.randn(size)/2\n",
    "\n",
    "# Create dictionary\n",
    "d = {'a': a, 'b': b, 'c': c, 'y': y}\n",
    "\n",
    "# Run Regression with all three independent variables\n",
    "mod = smf.ols(formula='y ~ a + b + c', data = d).fit()\n",
    "print(mod.summary())"
   ]
  },
  {
   "cell_type": "markdown",
   "metadata": {},
   "source": [
    "Even though it's linear regression, we can still introduce nonlinearity if we have a hunch of what it is beforehand.  For example, if we think that the relationship is a second degree polynomial we can do the following:"
   ]
  },
  {
   "cell_type": "code",
   "execution_count": 24,
   "metadata": {
    "collapsed": false
   },
   "outputs": [
    {
     "data": {
      "text/plain": [
       "[<matplotlib.lines.Line2D at 0x1cf8389bf60>]"
      ]
     },
     "execution_count": 24,
     "metadata": {},
     "output_type": "execute_result"
    },
    {
     "data": {
      "image/png": "[encoded data removed]",
      "text/plain": [
       "<matplotlib.figure.Figure at 0x1cf8384b860>"
      ]
     },
     "metadata": {},
     "output_type": "display_data"
    }
   ],
   "source": [
    "# Create x\n",
    "x = np.arange(size)\n",
    "\n",
    "# Create x^2\n",
    "x2 = x**2\n",
    "\n",
    "# Make y = 2x + 3x^2 + noise\n",
    "y = x*2 + 3*x2 + np.random.randn(size)*25\n",
    "\n",
    "# Store in a dict\n",
    "d = {'x': x, 'x2': x2, 'y': y}\n",
    "\n",
    "# When running the regression, include x^2 as one of the independent variables\n",
    "mod = smf.ols(formula='y ~ x + x2', data = d).fit()\n",
    "\n",
    "# Visualize the regression\n",
    "figure, ax = plt.subplots(figsize=(10,10))\n",
    "ax.scatter(x, y, s=100)\n",
    "r = mod.params[0] + mod.params[1]*x + mod.params[2]*x2\n",
    "ax.plot(x,r, 'r--')"
   ]
  },
  {
   "cell_type": "markdown",
   "metadata": {},
   "source": [
    "Variables aren't always numerical.  For instance, gender or nationality.  These are considered categorical variables.  \n",
    "\n",
    "We'll use one of statsmodels [built-in datasets](http://statsmodels.sourceforge.net/0.6.0/datasets/index.html) to explore this.\n",
    "\n",
    "The [Grunfeld](http://statsmodels.sourceforge.net/0.6.0/datasets/generated/grunfeld.html) dataset has investment data for several firms over a period of 20 years.  We can load this data like so:"
   ]
  },
  {
   "cell_type": "code",
   "execution_count": 34,
   "metadata": {
    "collapsed": false
   },
   "outputs": [
    {
     "data": {
      "text/html": [
       "<div>\n",
       "<table border=\"1\" class=\"dataframe\">\n",
       "  <thead>\n",
       "    <tr style=\"text-align: right;\">\n",
       "      <th></th>\n",
       "      <th>invest</th>\n",
       "      <th>value</th>\n",
       "      <th>capital</th>\n",
       "      <th>firm</th>\n",
       "      <th>year</th>\n",
       "    </tr>\n",
       "  </thead>\n",
       "  <tbody>\n",
       "    <tr>\n",
       "      <th>0</th>\n",
       "      <td>317.6</td>\n",
       "      <td>3078.5</td>\n",
       "      <td>2.8</td>\n",
       "      <td>b'General Motors'</td>\n",
       "      <td>1935.0</td>\n",
       "    </tr>\n",
       "    <tr>\n",
       "      <th>1</th>\n",
       "      <td>391.8</td>\n",
       "      <td>4661.7</td>\n",
       "      <td>52.6</td>\n",
       "      <td>b'General Motors'</td>\n",
       "      <td>1936.0</td>\n",
       "    </tr>\n",
       "    <tr>\n",
       "      <th>2</th>\n",
       "      <td>410.6</td>\n",
       "      <td>5387.1</td>\n",
       "      <td>156.9</td>\n",
       "      <td>b'General Motors'</td>\n",
       "      <td>1937.0</td>\n",
       "    </tr>\n",
       "    <tr>\n",
       "      <th>3</th>\n",
       "      <td>257.7</td>\n",
       "      <td>2792.2</td>\n",
       "      <td>209.2</td>\n",
       "      <td>b'General Motors'</td>\n",
       "      <td>1938.0</td>\n",
       "    </tr>\n",
       "    <tr>\n",
       "      <th>4</th>\n",
       "      <td>330.8</td>\n",
       "      <td>4313.2</td>\n",
       "      <td>203.4</td>\n",
       "      <td>b'General Motors'</td>\n",
       "      <td>1939.0</td>\n",
       "    </tr>\n",
       "  </tbody>\n",
       "</table>\n",
       "</div>"
      ],
      "text/plain": [
       "   invest   value  capital               firm    year\n",
       "0   317.6  3078.5      2.8  b'General Motors'  1935.0\n",
       "1   391.8  4661.7     52.6  b'General Motors'  1936.0\n",
       "2   410.6  5387.1    156.9  b'General Motors'  1937.0\n",
       "3   257.7  2792.2    209.2  b'General Motors'  1938.0\n",
       "4   330.8  4313.2    203.4  b'General Motors'  1939.0"
      ]
     },
     "execution_count": 34,
     "metadata": {},
     "output_type": "execute_result"
    }
   ],
   "source": [
    "# Import statsmodels api\n",
    "import statsmodels.api as sm\n",
    "\n",
    "# Load the data as a pandas dataframe\n",
    "d = sm.datasets.grunfeld.load_pandas().data\n",
    "\n",
    "# Display the first few rows of data\n",
    "d.head()"
   ]
  },
  {
   "cell_type": "markdown",
   "metadata": {},
   "source": [
    "If we want to build a model for the market value of a firm, the firm itself is an important factor.  Here we can include the firm as a categorial variable in our model by using 'C(firm)' in the formula:"
   ]
  },
  {
   "cell_type": "code",
   "execution_count": 35,
   "metadata": {
    "collapsed": false
   },
   "outputs": [
    {
     "name": "stdout",
     "output_type": "stream",
     "text": [
      "                            OLS Regression Results                            \n",
      "==============================================================================\n",
      "Dep. Variable:                  value   R-squared:                       0.963\n",
      "Model:                            OLS   Adj. R-squared:                  0.961\n",
      "Method:                 Least Squares   F-statistic:                     414.8\n",
      "Date:                Wed, 18 May 2016   Prob (F-statistic):          7.45e-140\n",
      "Time:                        15:00:15   Log-Likelihood:                -1523.7\n",
      "No. Observations:                 220   AIC:                             3075.\n",
      "Df Residuals:                     206   BIC:                             3123.\n",
      "Df Model:                          13                                         \n",
      "Covariance Type:            nonrobust                                         \n",
      "================================================================================================\n",
      "                                   coef    std err          t      P>|t|      [95.0% Conf. Int.]\n",
      "------------------------------------------------------------------------------------------------\n",
      "Intercept                     -1.42e+04   7597.827     -1.869      0.063     -2.92e+04   778.647\n",
      "C(firm)[T.Atlantic Refining]   289.9657     97.064      2.987      0.003        98.599   481.332\n",
      "C(firm)[T.Chrysler]            437.1456     82.464      5.301      0.000       274.565   599.727\n",
      "C(firm)[T.Diamond Match]       -16.7591     81.004     -0.207      0.836      -176.462   142.944\n",
      "C(firm)[T.General Electric]   1822.8456     87.944     20.727      0.000      1649.460  1996.231\n",
      "C(firm)[T.General Motors]     2888.3048    146.570     19.706      0.000      2599.335  3177.274\n",
      "C(firm)[T.Goodyear]            325.4337     85.533      3.805      0.000       156.801   494.067\n",
      "C(firm)[T.IBM]                 243.1412     81.210      2.994      0.003        83.032   403.251\n",
      "C(firm)[T.US Steel]            874.1971    124.323      7.032      0.000       629.088  1119.306\n",
      "C(firm)[T.Union Oil]           136.0613     86.086      1.581      0.116       -33.661   305.784\n",
      "C(firm)[T.Westinghouse]        518.7352     80.982      6.406      0.000       359.076   678.395\n",
      "invest                           2.9502      0.296      9.982      0.000         2.367     3.533\n",
      "capital                         -0.6643      0.157     -4.235      0.000        -0.974    -0.355\n",
      "year                             7.3455      3.910      1.879      0.062        -0.363    15.054\n",
      "==============================================================================\n",
      "Omnibus:                       47.503   Durbin-Watson:                   1.520\n",
      "Prob(Omnibus):                  0.000   Jarque-Bera (JB):              338.642\n",
      "Skew:                           0.565   Prob(JB):                     2.92e-74\n",
      "Kurtosis:                       8.972   Cond. No.                     8.71e+05\n",
      "==============================================================================\n",
      "\n",
      "Warnings:\n",
      "[1] Standard Errors assume that the covariance matrix of the errors is correctly specified.\n",
      "[2] The condition number is large, 8.71e+05. This might indicate that there are\n",
      "strong multicollinearity or other numerical problems.\n"
     ]
    }
   ],
   "source": [
    "mod = smf.ols(formula='value ~ invest + capital + year + C(firm)', data = d).fit()\n",
    "print(mod.summary())"
   ]
  },
  {
   "cell_type": "markdown",
   "metadata": {},
   "source": [
    "As you can see, each value of the categorical variable is treated as a separate independent variable.  When doing this, one of the categories gets left out as the default.  In this case that was 'American Steel'.  Then you can assess the impact of belonging to one of the categories versus 'American Steel'.  For comparison, here is the regression without the firms:"
   ]
  },
  {
   "cell_type": "code",
   "execution_count": 38,
   "metadata": {
    "collapsed": false
   },
   "outputs": [
    {
     "name": "stdout",
     "output_type": "stream",
     "text": [
      "                            OLS Regression Results                            \n",
      "==============================================================================\n",
      "Dep. Variable:                  value   R-squared:                       0.761\n",
      "Model:                            OLS   Adj. R-squared:                  0.757\n",
      "Method:                 Least Squares   F-statistic:                     229.0\n",
      "Date:                Wed, 18 May 2016   Prob (F-statistic):           8.41e-67\n",
      "Time:                        15:18:20   Log-Likelihood:                -1729.6\n",
      "No. Observations:                 220   AIC:                             3467.\n",
      "Df Residuals:                     216   BIC:                             3481.\n",
      "Df Model:                           3                                         \n",
      "Covariance Type:            nonrobust                                         \n",
      "==============================================================================\n",
      "                 coef    std err          t      P>|t|      [95.0% Conf. Int.]\n",
      "------------------------------------------------------------------------------\n",
      "Intercept   4.463e+04   1.67e+04      2.677      0.008      1.18e+04  7.75e+04\n",
      "invest         5.6755      0.280     20.250      0.000         5.123     6.228\n",
      "capital       -0.2881      0.224     -1.284      0.200        -0.730     0.154\n",
      "year         -22.7958      8.584     -2.656      0.009       -39.715    -5.876\n",
      "==============================================================================\n",
      "Omnibus:                       55.245   Durbin-Watson:                   0.367\n",
      "Prob(Omnibus):                  0.000   Jarque-Bera (JB):              133.628\n",
      "Skew:                           1.132   Prob(JB):                     9.62e-30\n",
      "Kurtosis:                       6.074   Cond. No.                     7.67e+05\n",
      "==============================================================================\n",
      "\n",
      "Warnings:\n",
      "[1] Standard Errors assume that the covariance matrix of the errors is correctly specified.\n",
      "[2] The condition number is large, 7.67e+05. This might indicate that there are\n",
      "strong multicollinearity or other numerical problems.\n"
     ]
    }
   ],
   "source": [
    "mod = smf.ols(formula='value ~ invest + capital + year', data = d).fit()\n",
    "print(mod.summary())"
   ]
  },
  {
   "cell_type": "code",
   "execution_count": null,
   "metadata": {
    "collapsed": true
   },
   "outputs": [],
   "source": []
  }
 ],
 "metadata": {
  "kernelspec": {
   "display_name": "Python 3",
   "language": "python",
   "name": "python3"
  },
  "language_info": {
   "codemirror_mode": {
    "name": "ipython",
    "version": 3
   },
   "file_extension": ".py",
   "mimetype": "text/x-python",
   "name": "python",
   "nbconvert_exporter": "python",
   "pygments_lexer": "ipython3",
   "version": "3.5.1"
  }
 },
 "nbformat": 4,
 "nbformat_minor": 0
}
